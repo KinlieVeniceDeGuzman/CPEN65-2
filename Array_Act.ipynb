{
  "nbformat": 4,
  "nbformat_minor": 0,
  "metadata": {
    "colab": {
      "provenance": [],
      "authorship_tag": "ABX9TyMe1t4XDlFEFPQgG7JMSJuu",
      "include_colab_link": true
    },
    "kernelspec": {
      "name": "python3",
      "display_name": "Python 3"
    },
    "language_info": {
      "name": "python"
    }
  },
  "cells": [
    {
      "cell_type": "markdown",
      "metadata": {
        "id": "view-in-github",
        "colab_type": "text"
      },
      "source": [
        "<a href=\"https://colab.research.google.com/github/KinlieVeniceDeGuzman/CPEN65-2/blob/main/Array_Act.ipynb\" target=\"_parent\"><img src=\"https://colab.research.google.com/assets/colab-badge.svg\" alt=\"Open In Colab\"/></a>"
      ]
    },
    {
      "cell_type": "code",
      "execution_count": null,
      "metadata": {
        "colab": {
          "base_uri": "https://localhost:8080/"
        },
        "id": "Jxlzk0nw1zX2",
        "outputId": "c5d32dfe-5771-4afd-f5e2-3ef024448f52"
      },
      "outputs": [
        {
          "output_type": "stream",
          "name": "stdout",
          "text": [
            "Enter your full name: KINLIE VENICE L. DE GUZMAN\n",
            "Name before reversing:  ['K', 'I', 'N', 'L', 'I', 'E', ' ', 'V', 'E', 'N', 'I', 'C', 'E', ' ', 'L', '.', ' ', 'D', 'E', ' ', 'G', 'U', 'Z', 'M', 'A', 'N']\n",
            "Name after reversing:  ['N', 'A', 'M', 'Z', 'U', 'G', ' ', 'E', 'D', ' ', '.', 'L', ' ', 'E', 'C', 'I', 'N', 'E', 'V', ' ', 'E', 'I', 'L', 'N', 'I', 'K']\n"
          ]
        }
      ],
      "source": [
        "name = input(\"Enter your full name: \")\n",
        "character = list(name)\n",
        "print(\"Name before reversing: \", character)\n",
        "character.reverse()\n",
        "print(\"Name after reversing: \", character)"
      ]
    }
  ]
}