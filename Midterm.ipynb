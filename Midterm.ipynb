{
  "nbformat": 4,
  "nbformat_minor": 0,
  "metadata": {
    "colab": {
      "provenance": [],
      "authorship_tag": "ABX9TyMyyiD2EBPXhMcoM6myX/ok",
      "include_colab_link": true
    },
    "kernelspec": {
      "name": "python3",
      "display_name": "Python 3"
    },
    "language_info": {
      "name": "python"
    }
  },
  "cells": [
    {
      "cell_type": "markdown",
      "metadata": {
        "id": "view-in-github",
        "colab_type": "text"
      },
      "source": [
        "<a href=\"https://colab.research.google.com/github/KinlieVeniceDeGuzman/CPEN65-2/blob/main/Midterm.ipynb\" target=\"_parent\"><img src=\"https://colab.research.google.com/assets/colab-badge.svg\" alt=\"Open In Colab\"/></a>"
      ]
    },
    {
      "cell_type": "code",
      "execution_count": 40,
      "metadata": {
        "colab": {
          "base_uri": "https://localhost:8080/"
        },
        "id": "ALrW4YV7_qe3",
        "outputId": "0ac9d262-4c2a-4b55-d6fa-c3d057567949"
      },
      "outputs": [
        {
          "output_type": "stream",
          "name": "stdout",
          "text": [
            "First index: 5\n",
            "Second index: 0\n",
            "Third index: 2\n",
            "Value of first index:  12\n",
            "Value of second index:  2\n",
            "Value of third index:  6\n",
            "Computed sum:  20\n"
          ]
        }
      ],
      "source": [
        "# 1.\tWrite a Python program to create an array of 10 integers and display the array items. Access individual elements through indexes and compute for the sum.\n",
        "\n",
        "import array as arr\n",
        "\n",
        "arr.typecodes\n",
        "\n",
        "integers = arr.array('i', [2, 4, 6, 8, 10, 12, 14, 16, 18, 20])\n",
        "\n",
        "x = input(\"First index: \")\n",
        "y = input(\"Second index: \")\n",
        "z = input(\"Third index: \")\n",
        "\n",
        "x = int(x)\n",
        "y2 = int(y)\n",
        "z3 = int(z)\n",
        "\n",
        "x_1 = integers[x]\n",
        "y_2 = integers[y2]\n",
        "z_3 = integers [z3]\n",
        "print(\"Value of first index: \", x_1)\n",
        "print(\"Value of second index: \", y_2)\n",
        "print(\"Value of third index: \", z_3)\n",
        "\n",
        "sum = (x_1 + y_2 + z_3)\n",
        "print(\"Computed sum: \", sum)"
      ]
    },
    {
      "cell_type": "code",
      "source": [
        "# 2. Write a Python program to append a new item to the end of the array. Original array: numbers = [1, 2, 3, 4, 5, 6, 7, 8, 9, 10]\n",
        "\n",
        "import array\n",
        "num = [1, 2, 3, 4, 5, 6, 7, 8, 9, 10]\n",
        "new_item = int(input(\"Input number here: \"))\n",
        "\n",
        "\n",
        "print(\"Original array: \", num)\n",
        "num.append(new_item)\n",
        "print(\"Appended array: \", num)"
      ],
      "metadata": {
        "colab": {
          "base_uri": "https://localhost:8080/"
        },
        "id": "SCci0iXNKZAs",
        "outputId": "89439009-669e-40e9-a360-5c4ad09b8b24"
      },
      "execution_count": 19,
      "outputs": [
        {
          "output_type": "stream",
          "name": "stdout",
          "text": [
            "Input number here: 5\n",
            "Original array:  [1, 2, 3, 4, 5, 6, 7, 8, 9, 10]\n",
            "Appended array:  [1, 2, 3, 4, 5, 6, 7, 8, 9, 10, 5]\n"
          ]
        }
      ]
    },
    {
      "cell_type": "code",
      "source": [
        "# 3. Write a Python program to insert a new item before the second element in an existing array. Original array: numbers = [1, 2, 3, 4, 5, 6, 7, 8, 9, 10]\n",
        "\n",
        "import array \n",
        "numbers = [1, 2, 3, 4, 5, 6, 7, 8, 9, 10]\n",
        "before_sec = int(input(\"Input new item to be inserted before the 2nd element here: \"))\n",
        "print(\"Original array: \", numbers)\n",
        "numbers.insert(1, before_sec)\n",
        "print(\"Final array: \", numbers)"
      ],
      "metadata": {
        "colab": {
          "base_uri": "https://localhost:8080/"
        },
        "id": "Sl3FwT8DI_yg",
        "outputId": "068d87f4-ba07-491e-93cc-3e44e74db0c4"
      },
      "execution_count": 26,
      "outputs": [
        {
          "output_type": "stream",
          "name": "stdout",
          "text": [
            "Input new item to be inserted before the 2nd element here: 7\n",
            "Original array:  [1, 2, 3, 4, 5, 6, 7, 8, 9, 10]\n",
            "Final array:  [1, 7, 2, 3, 4, 5, 6, 7, 8, 9, 10]\n"
          ]
        }
      ]
    },
    {
      "cell_type": "code",
      "source": [
        "# 4. Write a Python program to reverse the order of the items in the array. Original array: numbers = [5, 4, 3, 2, 1]\n",
        "\n",
        "import array\n",
        "numbers = [5,4,3,2,1]\n",
        "print(\"Original array: \", numbers)\n",
        "numbers.reverse()\n",
        "print(\"Reverse array: \", numbers)"
      ],
      "metadata": {
        "colab": {
          "base_uri": "https://localhost:8080/"
        },
        "id": "fPZU5HgdD4Os",
        "outputId": "f4217d97-c2c8-42d7-e973-3e2b971e4109"
      },
      "execution_count": 25,
      "outputs": [
        {
          "output_type": "stream",
          "name": "stdout",
          "text": [
            "Original array:  [5, 4, 3, 2, 1]\n",
            "Reverse array:  [1, 2, 3, 4, 5]\n"
          ]
        }
      ]
    },
    {
      "cell_type": "code",
      "source": [
        "# 5.  Write a Python program to get the length of the array. Original array: numbers =\n",
        "[5, 4, 3, 2, 1]\n",
        "\n",
        "import array\n",
        "numbers = [5,4,3,2,1]\n",
        "print(\"Original array: \", numbers)\n",
        "length = len(numbers)\n",
        "print(\"Length of array: \", length)"
      ],
      "metadata": {
        "colab": {
          "base_uri": "https://localhost:8080/"
        },
        "id": "1yZq19UBAyoR",
        "outputId": "e68685a4-2062-4167-b8e8-266b1970af4b"
      },
      "execution_count": 24,
      "outputs": [
        {
          "output_type": "stream",
          "name": "stdout",
          "text": [
            "Original array:  [5, 4, 3, 2, 1]\n",
            "Length of array:  5\n"
          ]
        }
      ]
    }
  ]
}